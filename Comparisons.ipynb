{
 "cells": [
  {
   "attachments": {},
   "cell_type": "markdown",
   "metadata": {},
   "source": [
    "# Analysing and Comparing Automated Algorithm Selection Models using Explainable Artificial Intelligence"
   ]
  },
  {
   "cell_type": "code",
   "execution_count": null,
   "metadata": {},
   "outputs": [
    {
     "name": "stdout",
     "output_type": "stream",
     "text": [
      "import completed\n"
     ]
    }
   ],
   "source": [
    "%load_ext autoreload\n",
    "%autoreload 2\n",
    "import logging\n",
    "import matplotlib.pyplot as plt\n",
    "import pandas as pd\n",
    "import copy\n",
    "\n",
    "from aasexplainer.aasexplainer import AASExplainer\n",
    "from aasexplainer.afmodels import AFModelPair\n",
    "from aasexplainer.afmodels import AFModelPairRegression\n",
    "from aasexplainer.afmodels import AFModel\n",
    "from aasexplainer.afmodels import load_scenario\n",
    "from aasexplainer.afmodels import get_shap_scenario\n",
    "\n",
    "from aasexplainer.modelcamparison import AASModelComparison\n",
    "\n",
    "from aasexplainer.path_handler import *\n",
    "print('import completed')\n",
    "\n",
    "logging.getLogger(\"ASlibScenario\").setLevel(logging.ERROR)"
   ]
  },
  {
   "cell_type": "code",
   "execution_count": 4,
   "metadata": {},
   "outputs": [],
   "source": [
    "# scenario_strs = ['BNSL-2016','MAXSAT-PMS-2016', 'SAT03-16_INDU', 'QBF-2016', 'TSP-LION2015']\n",
    "scenario_strs = ['BNSL-2016'] # Only first scenario due to repository size limit"
   ]
  },
  {
   "cell_type": "markdown",
   "metadata": {},
   "source": [
    "## Model Stats"
   ]
  },
  {
   "cell_type": "code",
   "execution_count": 10,
   "metadata": {},
   "outputs": [
    {
     "name": "stdout",
     "output_type": "stream",
     "text": [
      "BNSL-2016\n",
      "MAXSAT-PMS-2016\n",
      "SAT03-16_INDU\n",
      "QBF-2016\n",
      "TSP-LION2015\n"
     ]
    }
   ],
   "source": [
    "\n",
    "# Create an empty dataframe\n",
    "selector_par10 = pd.DataFrame(columns=range(1, 11), index=scenario_strs)\n",
    "selector_gap = pd.DataFrame(columns=range(1, 11), index=scenario_strs)\n",
    "\n",
    "# Populate the dataframe with model types\n",
    "for scenario_str in scenario_strs:\n",
    "    print(scenario_str)\n",
    "    scenario_path = get_scenario_path(scenario_str)\n",
    "    scenario_lib = load_scenario(scenario_path)\n",
    "    for fold in range(1, 11):\n",
    "        test_scenario,train_scenario = scenario_lib.get_split(fold)\n",
    "\n",
    "\n",
    "        model_cur = load_model_only(scenario_str, fold, scenario_lib)\n",
    "\n",
    "        selector_par10.loc[scenario_str, fold] = model_cur.get_stats(test_scenario = test_scenario, train_scenario = train_scenario)['par10']\n",
    "        selector_gap.loc[scenario_str, fold] = model_cur.get_stats(test_scenario = test_scenario, train_scenario = train_scenario)['gap_closed']\n",
    "        \n"
   ]
  },
  {
   "cell_type": "code",
   "execution_count": 15,
   "metadata": {},
   "outputs": [
    {
     "data": {
      "text/html": [
       "<div>\n",
       "<style scoped>\n",
       "    .dataframe tbody tr th:only-of-type {\n",
       "        vertical-align: middle;\n",
       "    }\n",
       "\n",
       "    .dataframe tbody tr th {\n",
       "        vertical-align: top;\n",
       "    }\n",
       "\n",
       "    .dataframe thead th {\n",
       "        text-align: right;\n",
       "    }\n",
       "</style>\n",
       "<table border=\"1\" class=\"dataframe\">\n",
       "  <thead>\n",
       "    <tr style=\"text-align: right;\">\n",
       "      <th></th>\n",
       "      <th>1</th>\n",
       "      <th>2</th>\n",
       "      <th>3</th>\n",
       "      <th>4</th>\n",
       "      <th>5</th>\n",
       "      <th>6</th>\n",
       "      <th>7</th>\n",
       "      <th>8</th>\n",
       "      <th>9</th>\n",
       "      <th>10</th>\n",
       "    </tr>\n",
       "  </thead>\n",
       "  <tbody>\n",
       "    <tr>\n",
       "      <th>BNSL-2016</th>\n",
       "      <td>1396.515085</td>\n",
       "      <td>789.463644</td>\n",
       "      <td>2141.830593</td>\n",
       "      <td>2629.482203</td>\n",
       "      <td>3368.553983</td>\n",
       "      <td>839.88822</td>\n",
       "      <td>793.482966</td>\n",
       "      <td>2100.779492</td>\n",
       "      <td>2153.425556</td>\n",
       "      <td>2173.155763</td>\n",
       "    </tr>\n",
       "    <tr>\n",
       "      <th>MAXSAT-PMS-2016</th>\n",
       "      <td>385.924364</td>\n",
       "      <td>385.668302</td>\n",
       "      <td>338.237193</td>\n",
       "      <td>393.618909</td>\n",
       "      <td>1003.9375</td>\n",
       "      <td>391.617455</td>\n",
       "      <td>81.942632</td>\n",
       "      <td>357.889273</td>\n",
       "      <td>14.968</td>\n",
       "      <td>972.932759</td>\n",
       "    </tr>\n",
       "    <tr>\n",
       "      <th>SAT03-16_INDU</th>\n",
       "      <td>3642.821491</td>\n",
       "      <td>1720.429663</td>\n",
       "      <td>2191.664543</td>\n",
       "      <td>2779.611916</td>\n",
       "      <td>2904.382661</td>\n",
       "      <td>2707.770832</td>\n",
       "      <td>2158.387812</td>\n",
       "      <td>3444.191136</td>\n",
       "      <td>1371.340737</td>\n",
       "      <td>3172.479274</td>\n",
       "    </tr>\n",
       "    <tr>\n",
       "      <th>QBF-2016</th>\n",
       "      <td>694.453013</td>\n",
       "      <td>493.910513</td>\n",
       "      <td>254.142805</td>\n",
       "      <td>473.727205</td>\n",
       "      <td>269.41411</td>\n",
       "      <td>977.150286</td>\n",
       "      <td>752.359216</td>\n",
       "      <td>1185.720078</td>\n",
       "      <td>689.523575</td>\n",
       "      <td>478.035351</td>\n",
       "    </tr>\n",
       "    <tr>\n",
       "      <th>TSP-LION2015</th>\n",
       "      <td>42.396061</td>\n",
       "      <td>55.972251</td>\n",
       "      <td>279.403065</td>\n",
       "      <td>53.97574</td>\n",
       "      <td>52.652242</td>\n",
       "      <td>45.852797</td>\n",
       "      <td>45.330145</td>\n",
       "      <td>47.590788</td>\n",
       "      <td>46.433855</td>\n",
       "      <td>157.058215</td>\n",
       "    </tr>\n",
       "  </tbody>\n",
       "</table>\n",
       "</div>"
      ],
      "text/plain": [
       "                          1            2   ...           9            10\n",
       "BNSL-2016        1396.515085   789.463644  ...  2153.425556  2173.155763\n",
       "MAXSAT-PMS-2016   385.924364   385.668302  ...       14.968   972.932759\n",
       "SAT03-16_INDU    3642.821491  1720.429663  ...  1371.340737  3172.479274\n",
       "QBF-2016          694.453013   493.910513  ...   689.523575   478.035351\n",
       "TSP-LION2015       42.396061    55.972251  ...    46.433855   157.058215\n",
       "\n",
       "[5 rows x 10 columns]"
      ]
     },
     "execution_count": 15,
     "metadata": {},
     "output_type": "execute_result"
    }
   ],
   "source": [
    "selector_par10"
   ]
  },
  {
   "cell_type": "code",
   "execution_count": 16,
   "metadata": {},
   "outputs": [
    {
     "data": {
      "text/html": [
       "<div>\n",
       "<style scoped>\n",
       "    .dataframe tbody tr th:only-of-type {\n",
       "        vertical-align: middle;\n",
       "    }\n",
       "\n",
       "    .dataframe tbody tr th {\n",
       "        vertical-align: top;\n",
       "    }\n",
       "\n",
       "    .dataframe thead th {\n",
       "        text-align: right;\n",
       "    }\n",
       "</style>\n",
       "<table border=\"1\" class=\"dataframe\">\n",
       "  <thead>\n",
       "    <tr style=\"text-align: right;\">\n",
       "      <th></th>\n",
       "      <th>1</th>\n",
       "      <th>2</th>\n",
       "      <th>3</th>\n",
       "      <th>4</th>\n",
       "      <th>5</th>\n",
       "      <th>6</th>\n",
       "      <th>7</th>\n",
       "      <th>8</th>\n",
       "      <th>9</th>\n",
       "      <th>10</th>\n",
       "    </tr>\n",
       "  </thead>\n",
       "  <tbody>\n",
       "    <tr>\n",
       "      <th>BNSL-2016</th>\n",
       "      <td>0.869903</td>\n",
       "      <td>0.877067</td>\n",
       "      <td>0.74557</td>\n",
       "      <td>0.720633</td>\n",
       "      <td>0.665806</td>\n",
       "      <td>0.938149</td>\n",
       "      <td>0.941501</td>\n",
       "      <td>0.766401</td>\n",
       "      <td>0.774</td>\n",
       "      <td>0.818044</td>\n",
       "    </tr>\n",
       "    <tr>\n",
       "      <th>MAXSAT-PMS-2016</th>\n",
       "      <td>0.494755</td>\n",
       "      <td>0.544714</td>\n",
       "      <td>0.514336</td>\n",
       "      <td>0.530237</td>\n",
       "      <td>0.433792</td>\n",
       "      <td>0.526234</td>\n",
       "      <td>0.947299</td>\n",
       "      <td>0.520385</td>\n",
       "      <td>0.986449</td>\n",
       "      <td>0.417627</td>\n",
       "    </tr>\n",
       "    <tr>\n",
       "      <th>SAT03-16_INDU</th>\n",
       "      <td>0.30009</td>\n",
       "      <td>0.550229</td>\n",
       "      <td>0.416043</td>\n",
       "      <td>0.303764</td>\n",
       "      <td>0.365877</td>\n",
       "      <td>0.488533</td>\n",
       "      <td>0.393156</td>\n",
       "      <td>0.165017</td>\n",
       "      <td>0.689398</td>\n",
       "      <td>-0.085366</td>\n",
       "    </tr>\n",
       "    <tr>\n",
       "      <th>QBF-2016</th>\n",
       "      <td>0.726094</td>\n",
       "      <td>0.828726</td>\n",
       "      <td>0.867041</td>\n",
       "      <td>0.669947</td>\n",
       "      <td>0.913107</td>\n",
       "      <td>0.744997</td>\n",
       "      <td>0.766499</td>\n",
       "      <td>0.641534</td>\n",
       "      <td>0.70017</td>\n",
       "      <td>0.798989</td>\n",
       "    </tr>\n",
       "    <tr>\n",
       "      <th>TSP-LION2015</th>\n",
       "      <td>-0.037888</td>\n",
       "      <td>-0.028307</td>\n",
       "      <td>-0.009049</td>\n",
       "      <td>-0.175041</td>\n",
       "      <td>-0.029253</td>\n",
       "      <td>0.795478</td>\n",
       "      <td>-0.018695</td>\n",
       "      <td>0.78659</td>\n",
       "      <td>-0.040574</td>\n",
       "      <td>-0.006638</td>\n",
       "    </tr>\n",
       "  </tbody>\n",
       "</table>\n",
       "</div>"
      ],
      "text/plain": [
       "                       1         2         3   ...        8         9         10\n",
       "BNSL-2016        0.869903  0.877067   0.74557  ...  0.766401     0.774  0.818044\n",
       "MAXSAT-PMS-2016  0.494755  0.544714  0.514336  ...  0.520385  0.986449  0.417627\n",
       "SAT03-16_INDU     0.30009  0.550229  0.416043  ...  0.165017  0.689398 -0.085366\n",
       "QBF-2016         0.726094  0.828726  0.867041  ...  0.641534   0.70017  0.798989\n",
       "TSP-LION2015    -0.037888 -0.028307 -0.009049  ...   0.78659 -0.040574 -0.006638\n",
       "\n",
       "[5 rows x 10 columns]"
      ]
     },
     "execution_count": 16,
     "metadata": {},
     "output_type": "execute_result"
    }
   ],
   "source": [
    "selector_gap"
   ]
  },
  {
   "cell_type": "markdown",
   "metadata": {},
   "source": [
    "## Comparison"
   ]
  },
  {
   "cell_type": "code",
   "execution_count": 5,
   "metadata": {},
   "outputs": [],
   "source": [
    "scenario_strs = ['BNSL-2016','MAXSAT-PMS-2016', 'SAT03-16_INDU', 'QBF-2016', 'TSP-LION2015']\n",
    "scenario_strs = ['BNSL-2016'] # Only first scenario due to repository size limit"
   ]
  },
  {
   "cell_type": "code",
   "execution_count": 2,
   "metadata": {},
   "outputs": [
    {
     "name": "stdout",
     "output_type": "stream",
     "text": [
      "BNSL-2016\n"
     ]
    }
   ],
   "source": [
    "# Load Shapley values\n",
    "comps = {}\n",
    "\n",
    "for scenario_str in ['BNSL-2016']:\n",
    "    print(scenario_str)\n",
    "    scenario_path = get_scenario_path(scenario_str)\n",
    "    scenario_lib = load_scenario(scenario_path)\n",
    "    features_per_split = 20\n",
    "    shap_scenario = get_shap_scenario(scenario_lib, features_per_split)\n",
    "    exps = []\n",
    "    for fold in range(1, 11):\n",
    "        test_scenario,train_scenario = scenario_lib.get_split(fold)\n",
    "\n",
    "        model_cur = load_model_only(scenario_str, fold, scenario_lib)\n",
    "        path_shap = get_shap_path(scenario_str, fold, \"Final200\")\n",
    "\n",
    "        exp = AASExplainer(shap_scenario, model_cur, background_scenario = scenario_lib, path_shap = path_shap)\n",
    "        exps.append(exp)\n",
    "\n",
    "    comps[scenario_str] = comp = AASModelComparison(exps)     \n",
    "\n"
   ]
  },
  {
   "cell_type": "code",
   "execution_count": 19,
   "metadata": {},
   "outputs": [
    {
     "data": {
      "image/png": "[encoded data removed]",
      "text/plain": [
       "<Figure size 432x288 with 2 Axes>"
      ]
     },
     "metadata": {
      "needs_background": "light"
     },
     "output_type": "display_data"
    }
   ],
   "source": [
    "comps['BNSL-2016'].plot_distances_topk(k=10)"
   ]
  },
  {
   "cell_type": "code",
   "execution_count": 9,
   "metadata": {},
   "outputs": [
    {
     "name": "stdout",
     "output_type": "stream",
     "text": [
      "BNSL-2016\n",
      "MAXSAT-PMS-2016\n",
      "SAT03-16_INDU\n",
      "QBF-2016\n",
      "TSP-LION2015\n"
     ]
    }
   ],
   "source": [
    "distance_values = {}\n",
    "\n",
    "for scenario_str in scenario_strs:\n",
    "    print(scenario_str)\n",
    "    scenario_path = get_scenario_path(scenario_str)\n",
    "    scenario_lib = load_scenario(scenario_path)\n",
    "    features_per_split = 20\n",
    "    shap_scenario = get_shap_scenario(scenario_lib, features_per_split)\n",
    "    exps = []\n",
    "    for fold in range(1, 11):\n",
    "        test_scenario,train_scenario = scenario_lib.get_split(fold)\n",
    "\n",
    "        model_cur = load_model_only(scenario_str, fold, scenario_lib)\n",
    "        path_shap = get_shap_path(scenario_str, fold, \"Final200\")\n",
    "\n",
    "        exp = AASExplainer(shap_scenario, model_cur, background_scenario = scenario_lib, path_shap = path_shap)\n",
    "        exps.append(exp)\n",
    "\n",
    "    comp = AASModelComparison(exps) \n",
    "    distance_values[scenario_str] = comp.values_distances_topk(k=10) \n"
   ]
  },
  {
   "cell_type": "code",
   "execution_count": 8,
   "metadata": {},
   "outputs": [
    {
     "data": {
      "text/plain": [
       "(0.0, 10.0)"
      ]
     },
     "execution_count": 8,
     "metadata": {},
     "output_type": "execute_result"
    },
    {
     "data": {
      "image/png": "[encoded data removed]",
      "text/plain": [
       "<Figure size 432x288 with 1 Axes>"
      ]
     },
     "metadata": {
      "needs_background": "light"
     },
     "output_type": "display_data"
    }
   ],
   "source": [
    "fig, ax = plt.subplots()\n",
    "ax.boxplot(distance_values.values())\n",
    "ax.set_xticklabels(distance_values.keys())\n",
    "plt.xticks(rotation=20)\n",
    "plt.ylim(0, 10)"
   ]
  }
 ],
 "metadata": {
  "kernelspec": {
   "display_name": "Python 3 (ipykernel)",
   "language": "python",
   "name": "python3"
  },
  "language_info": {
   "codemirror_mode": {
    "name": "ipython",
    "version": 3
   },
   "file_extension": ".py",
   "mimetype": "text/x-python",
   "name": "python",
   "nbconvert_exporter": "python",
   "pygments_lexer": "ipython3",
   "version": "3.8.18"
  },
  "vscode": {
   "interpreter": {
    "hash": "916dbcbb3f70747c44a77c7bcd40155683ae19c65e1c03b4aa3499c5328201f1"
   }
  }
 },
 "nbformat": 4,
 "nbformat_minor": 4
}
